{
 "cells": [
  {
   "cell_type": "markdown",
   "metadata": {},
   "source": [
    "# California Housing Prices"
   ]
  },
  {
   "cell_type": "markdown",
   "metadata": {},
   "source": [
    "<b>Task:</b>\n",
    "Use California census data to build a model of housing prices in the state. <br>\n",
    "Your model should learn from this data and be able to predict the median housing price in any district, given all the other metrics.\n",
    "\n",
    "<b>Additional informations:</b>\n",
    "This data includes metrics such as the population, median income, and median housing price for each block group in California. Block groups are the smallest geographical unit for which the US Census Bureau publishes sample data (a block group typically has a population of 600 to 3,000 people). We will call them “districts” for short."
   ]
  },
  {
   "cell_type": "markdown",
   "metadata": {},
   "source": [
    "## Machine Learning project checklist:\n",
    "1. Look at the big picture.\n",
    "2. Get the data.\n",
    "3. Discover and visualize the data to gain insights.\n",
    "4. Prepare the data for Machine Learning algorithms.\n",
    "5. Select a and train it.\n",
    "6. Fine-tune model.\n",
    "7. Present solution.\n",
    "8. Launch system."
   ]
  },
  {
   "cell_type": "markdown",
   "metadata": {},
   "source": [
    "# 1. Look at the big picture."
   ]
  },
  {
   "cell_type": "markdown",
   "metadata": {},
   "source": [
    "### Pipeline:"
   ]
  },
  {
   "cell_type": "markdown",
   "metadata": {},
   "source": [
    "![A Machine Learning pipeline for real estate investments](./images/housing/machine-learning-pipeline-for-real-estate-inv.png)"
   ]
  },
  {
   "cell_type": "markdown",
   "metadata": {},
   "source": [
    "### Current solution:\n",
    "The district housing prices are currently estimated manually by experts: a team gathers up-to-date information about a district, and when they cannot get the median housing price, they estimate it using complex rules.\n",
    "\n",
    "This is costly and time-consuming, and their estimates are not great; in cases where they manage to find out the actual median housing price, they often realize that their estimates were off by more than 20%. "
   ]
  },
  {
   "cell_type": "markdown",
   "metadata": {},
   "source": [
    "### Frame:\n",
    "- Typical <b>supervised learning task</b>, since you are given labeled training examples (each instance comes with the expected output, i.e., the district’s median housing price).\n",
    "- Typical <b>regression task</b>, since you are asked to predict a value. More specifically, this is a <b>multiple regression problem</b>, since the system will use multiple features to make a prediction (it will use the district’s population, the median income, etc.).\n",
    "- It is also a <b>univariate regression problem</b>, since we are only trying to predict a single value for each district. If we were trying to predict multiple values per district, it would be a <b>multivariate regression problem</b>.\n",
    "- Plain batch learning"
   ]
  },
  {
   "cell_type": "code",
   "execution_count": null,
   "metadata": {},
   "outputs": [],
   "source": []
  }
 ],
 "metadata": {
  "kernelspec": {
   "display_name": "Python 3",
   "language": "python",
   "name": "python3"
  },
  "language_info": {
   "codemirror_mode": {
    "name": "ipython",
    "version": 3
   },
   "file_extension": ".py",
   "mimetype": "text/x-python",
   "name": "python",
   "nbconvert_exporter": "python",
   "pygments_lexer": "ipython3",
   "version": "3.8.3"
  }
 },
 "nbformat": 4,
 "nbformat_minor": 4
}
