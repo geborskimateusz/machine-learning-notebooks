{
 "cells": [
  {
   "cell_type": "markdown",
   "metadata": {},
   "source": [
    "# Linear Regression\n",
    "\n",
    "## Articles used:\n",
    "- [Introduction to Linear Regression in Python](https://towardsdatascience.com/introduction-to-linear-regression-in-python-c12a072bedf0)\n",
    "\n",
    "Linear regression is a basic predictive analytics technique that uses historical data to predict an output variable.\n",
    "\n",
    "The basic idea is that if we can fit a linear regression model to observed data, we can then use the model to predict any future values. For example, let’s assume that we have found from historical data that the price (P) of a house is linearly dependent upon its size (S) — in fact, we found that a house’s price is exactly 90 times its size. The equation will look like this:\n",
    "<br><br>\n",
    "<b>P = 90 x S</b>\n",
    "<br><br>\n",
    "With this model, we can then predict the cost of any house. If we have a house that is 1,500 square feet, we can calculate its price to be:\n",
    "<br><br>\n",
    "<b>P = 90 x 1500 = $135,000</b>\n"
   ]
  },
  {
   "cell_type": "markdown",
   "metadata": {},
   "source": [
    "## 1. Basic concepts and mathematics"
   ]
  },
  {
   "cell_type": "markdown",
   "metadata": {},
   "source": [
    "There are two kinds of variables in a linear regression model:\n",
    "The <b>input or predictor variable</b> is the variable(s) that help predict the value of the output variable. It is commonly referred to as ${X}$.\n",
    "<br>\n",
    "The <b>output variable</b> is the variable that we want to predict. It is commonly referred to as ${Y}$.\n",
    "<br>\n",
    "To estimate Y using linear regression, we assume the equation:"
   ]
  },
  {
   "cell_type": "markdown",
   "metadata": {},
   "source": [
    "<center></b>$Y_e = \\alpha + \\beta X$</b></center>"
   ]
  },
  {
   "cell_type": "markdown",
   "metadata": {},
   "source": [
    "where <b>$Y_e$ is the estimated or predicted value of $Y$ based on our linear equation.</b>\n",
    "<br>\n",
    "Our goal is to find statistically significant values of the parameters $\\alpha$ and $\\beta$ that minimise the difference between $Y$ and $Y_e$. (See green lines): <br>\n",
    "![Green lines show the difference between actual values Y and estimate values Yₑ\n",
    "](../resources/images/articles/differencebetweenactualvaluesYandestimatevaluesY.png)\n",
    "<br>\n",
    "If we are able to determine the optimum values of these two parameters, then we will have the line of best fit that we can use to predict the values of $Y$, given the value of $X$.\n",
    "<b>To estimate $\\alpha$ and $\\beta$ We can use a method called ordinary least squares.</b>\n",
    "<br>\n",
    "The objective of the least squares method is to find values of $\\alpha$ and $\\beta$ that minimise the sum of the squared difference between $Y$ and $Y_e$. "
   ]
  },
  {
   "cell_type": "markdown",
   "metadata": {},
   "source": [
    "<center>\n",
    "<b>\n",
    "$\\beta = \\frac{\n",
    "    \\prod_{i=1}^{n} (X_i - \\overline{X})(Y_i - \\overline{Y})\n",
    "}{\n",
    "    \\prod_{i=1}^{n} (X_i - \\overline{X})^2\n",
    "}$\n",
    "</b>\n",
    "</center>\n",
    "<br>\n",
    "<center>\n",
    "<b>\n",
    "$\\alpha = \\overline{Y} - \\beta * \\overline{X}$\n",
    "</b>\n",
    "</center>\n",
    "<br>\n",
    "<center>\n",
    "<b>\n",
    "$\\beta = Cov(X, Y) / Var(X)$\n",
    "</b>\n",
    "</center>\n"
   ]
  },
  {
   "cell_type": "markdown",
   "metadata": {},
   "source": [
    "where $\\overline{X}$ is the mean of $X$ values and $\\overline{Y}$ is the mean of $Y$ values.\n",
    "<br>\n"
   ]
  },
  {
   "cell_type": "markdown",
   "metadata": {},
   "source": [
    "## 2. Linear Regression From Scratch"
   ]
  },
  {
   "cell_type": "code",
   "execution_count": null,
   "metadata": {},
   "outputs": [],
   "source": []
  }
 ],
 "metadata": {
  "kernelspec": {
   "display_name": "Python 3",
   "language": "python",
   "name": "python3"
  },
  "language_info": {
   "codemirror_mode": {
    "name": "ipython",
    "version": 3
   },
   "file_extension": ".py",
   "mimetype": "text/x-python",
   "name": "python",
   "nbconvert_exporter": "python",
   "pygments_lexer": "ipython3",
   "version": "3.8.3"
  }
 },
 "nbformat": 4,
 "nbformat_minor": 4
}
