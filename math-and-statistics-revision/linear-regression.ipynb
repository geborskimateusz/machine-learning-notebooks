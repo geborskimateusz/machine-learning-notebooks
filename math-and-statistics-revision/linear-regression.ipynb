{
 "cells": [
  {
   "cell_type": "markdown",
   "metadata": {},
   "source": [
    "# Linear Regression\n",
    "\n",
    "## Articles used:\n",
    "- [Introduction to Linear Regression in Python](https://towardsdatascience.com/introduction-to-linear-regression-in-python-c12a072bedf0)\n",
    "\n",
    "Linear regression is a basic predictive analytics technique that uses historical data to predict an output variable.\n",
    "\n",
    "The basic idea is that if we can fit a linear regression model to observed data, we can then use the model to predict any future values. For example, let’s assume that we have found from historical data that the price (P) of a house is linearly dependent upon its size (S) — in fact, we found that a house’s price is exactly 90 times its size. The equation will look like this:\n",
    "<br><br>\n",
    "<b>P = 90 x S</b>\n",
    "<br><br>\n",
    "With this model, we can then predict the cost of any house. If we have a house that is 1,500 square feet, we can calculate its price to be:\n",
    "<br><br>\n",
    "<b>P = 90 x 1500 = $135,000</b>\n"
   ]
  },
  {
   "cell_type": "markdown",
   "metadata": {},
   "source": [
    "## 1. Basic concepts and mathematics"
   ]
  },
  {
   "cell_type": "markdown",
   "metadata": {},
   "source": [
    "There are two kinds of variables in a linear regression model:\n",
    "The <b>input or predictor variable</b> is the variable(s) that help predict the value of the output variable. It is commonly referred to as ${X}$.\n",
    "<br>\n",
    "The <b>output variable</b> is the variable that we want to predict. It is commonly referred to as ${Y}$.\n",
    "<br>\n",
    "To estimate Y using linear regression, we assume the equation:"
   ]
  },
  {
   "cell_type": "markdown",
   "metadata": {},
   "source": [
    "<center></b>$Y_e = \\alpha + \\beta X$</b></center>"
   ]
  },
  {
   "cell_type": "markdown",
   "metadata": {},
   "source": [
    "where <b>$Y_e$ is the estimated or predicted value of $Y$ based on our linear equation.</b>\n",
    "<br>\n",
    "Our goal is to find statistically significant values of the parameters $\\alpha$ and $\\beta$ that minimise the difference between $Y$ and $Y_e$. (See green lines): <br>\n",
    "![Green lines show the difference between actual values Y and estimate values Yₑ\n",
    "](../resources/images/articles/differencebetweenactualvaluesYandestimatevaluesY.png)\n",
    "<br>\n",
    "If we are able to determine the optimum values of these two parameters, then we will have the line of best fit that we can use to predict the values of $Y$, given the value of $X$.\n",
    "<b>To estimate $\\alpha$ and $\\beta$ We can use a method called ordinary least squares.</b>\n",
    "<br>\n",
    "The objective of the least squares method is to find values of $\\alpha$ and $\\beta$ that minimise the sum of the squared difference between $Y$ and $Y_e$. "
   ]
  },
  {
   "cell_type": "markdown",
   "metadata": {},
   "source": [
    "<center>\n",
    "<b>\n",
    "$\\beta = \\frac{\n",
    "    \\sum_{i=1}^{n} (X_i - \\overline{X})(Y_i - \\overline{Y})\n",
    "}{\n",
    "    \\sum_{i=1}^{n} (X_i - \\overline{X})^2\n",
    "}$\n",
    "</b>\n",
    "</center>\n",
    "<br>\n",
    "<center>\n",
    "<b>\n",
    "$\\alpha = \\overline{Y} - \\beta * \\overline{X}$\n",
    "</b>\n",
    "</center>\n",
    "<br>\n",
    "<center>\n",
    "<b>\n",
    "$\\beta = \\frac{Cov(X, Y)}{Var(X)}$\n",
    "</b>\n",
    "</center>\n"
   ]
  },
  {
   "cell_type": "markdown",
   "metadata": {},
   "source": [
    "where $\\overline{X}$ is the mean of $X$ values and $\\overline{Y}$ is the mean of $Y$ values.\n",
    "<br>\n"
   ]
  },
  {
   "cell_type": "markdown",
   "metadata": {},
   "source": [
    "<hr>"
   ]
  },
  {
   "cell_type": "code",
   "execution_count": 1,
   "metadata": {},
   "outputs": [],
   "source": [
    "# Standard imports\n",
    "import pandas as pd\n",
    "import numpy as np\n",
    "from matplotlib import pyplot as plt"
   ]
  },
  {
   "cell_type": "markdown",
   "metadata": {},
   "source": [
    "# 2. Linear Regression code:\n",
    "\n",
    "Code below consist of:\n",
    "- Linear Regression from scratch\n",
    "- Linear Regression using statsmodels\n",
    "- Linear Regression using scikit-learn"
   ]
  },
  {
   "cell_type": "markdown",
   "metadata": {},
   "source": [
    "## 2.1 Linear Regression From Scratch"
   ]
  },
  {
   "cell_type": "code",
   "execution_count": 2,
   "metadata": {},
   "outputs": [
    {
     "data": {
      "text/html": [
       "<div>\n",
       "<style scoped>\n",
       "    .dataframe tbody tr th:only-of-type {\n",
       "        vertical-align: middle;\n",
       "    }\n",
       "\n",
       "    .dataframe tbody tr th {\n",
       "        vertical-align: top;\n",
       "    }\n",
       "\n",
       "    .dataframe thead th {\n",
       "        text-align: right;\n",
       "    }\n",
       "</style>\n",
       "<table border=\"1\" class=\"dataframe\">\n",
       "  <thead>\n",
       "    <tr style=\"text-align: right;\">\n",
       "      <th></th>\n",
       "      <th>X</th>\n",
       "      <th>y</th>\n",
       "    </tr>\n",
       "  </thead>\n",
       "  <tbody>\n",
       "    <tr>\n",
       "      <th>0</th>\n",
       "      <td>5.910131</td>\n",
       "      <td>4.714615</td>\n",
       "    </tr>\n",
       "    <tr>\n",
       "      <th>1</th>\n",
       "      <td>2.500393</td>\n",
       "      <td>2.076238</td>\n",
       "    </tr>\n",
       "    <tr>\n",
       "      <th>2</th>\n",
       "      <td>3.946845</td>\n",
       "      <td>2.548811</td>\n",
       "    </tr>\n",
       "    <tr>\n",
       "      <th>3</th>\n",
       "      <td>7.102233</td>\n",
       "      <td>4.615368</td>\n",
       "    </tr>\n",
       "    <tr>\n",
       "      <th>4</th>\n",
       "      <td>6.168895</td>\n",
       "      <td>3.264107</td>\n",
       "    </tr>\n",
       "  </tbody>\n",
       "</table>\n",
       "</div>"
      ],
      "text/plain": [
       "          X         y\n",
       "0  5.910131  4.714615\n",
       "1  2.500393  2.076238\n",
       "2  3.946845  2.548811\n",
       "3  7.102233  4.615368\n",
       "4  6.168895  3.264107"
      ]
     },
     "execution_count": 2,
     "metadata": {},
     "output_type": "execute_result"
    }
   ],
   "source": [
    "# Generate'random' data\n",
    "np.random.seed(0)\n",
    "\n",
    "mean, stdev = 1.5, 2.5\n",
    "X = stdev * np.random.randn(100) + mean # Array of some 100 values\n",
    "res = 0.5 * np.random.randn(100)        # 100 residual terms\n",
    "y = 2 + 0.3 * X + res                   # Actual values of Y\n",
    "\n",
    "# Pandas dataframe\n",
    "df = pd.DataFrame(\n",
    "    {\n",
    "        'X': X,\n",
    "        'y': y\n",
    "    }\n",
    ")\n",
    "\n",
    "# First five rows\n",
    "df.head()"
   ]
  },
  {
   "cell_type": "code",
   "execution_count": 3,
   "metadata": {},
   "outputs": [
    {
     "name": "stdout",
     "output_type": "stream",
     "text": [
      "alpha = 2.0031670124623426\n",
      "beta = 0.3229396867092763\n"
     ]
    }
   ],
   "source": [
    "# To estimate y using ordinary least squares\n",
    "# w need to calculate:\n",
    "# - mean of X\n",
    "# - mean of y\n",
    "# - covariance of X and y\n",
    "# - variance of X\n",
    "# before we can calculate alpha and beta\n",
    "\n",
    "x_mean, y_mean = np.mean(X), np.mean(y)\n",
    "cov = (df['X'] - x_mean) * (df['y'] - y_mean)\n",
    "var = (df['X'] - x_mean)**2\n",
    "beta = np.sum(cov) / np.sum(var)\n",
    "alpha = y_mean - (beta * x_mean)\n",
    "print(f'alpha = {alpha}')\n",
    "print(f'beta = {beta}')"
   ]
  },
  {
   "cell_type": "markdown",
   "metadata": {},
   "source": [
    "With estimated $\\alpha$ and $\\beta$ model will look like:\n",
    "<br>\n",
    "<center></b>$Y_e = 2.003 + 0.322X$</b></center>"
   ]
  },
  {
   "cell_type": "code",
   "execution_count": 4,
   "metadata": {},
   "outputs": [
    {
     "data": {
      "text/plain": [
       "array([3.91178282, 2.81064315, 3.27775989, 4.29675991, 3.99534802,\n",
       "       1.69857201, 3.25462968, 2.36537842, 2.40424288, 2.81907292,\n",
       "       2.60387001, 3.66168312, 3.10199975, 2.58581077, 2.84592918,\n",
       "       2.75696825, 3.69382011, 2.32194218, 2.74033151, 1.79802302,\n",
       "       0.42642221, 3.015275  , 3.18547843, 1.88839019, 4.32006116,\n",
       "       1.31339555, 2.52451965, 2.33645381, 3.72506464, 3.67386219,\n",
       "       2.61267323, 2.79288576, 1.77082341, 0.88838207, 2.20668994,\n",
       "       2.61380476, 3.48085076, 3.45831697, 2.17486854, 2.24351265,\n",
       "       1.64102813, 1.34112617, 1.11002064, 4.06253353, 2.07610925,\n",
       "       2.1338976 , 1.47613319, 3.11528277, 1.18459738, 2.31582084,\n",
       "       1.76462232, 2.79994197, 2.07517841, 1.53439407, 2.46482364,\n",
       "       2.83338994, 2.54127917, 2.73177699, 1.9754571 , 2.19471775,\n",
       "       1.94466613, 2.19729158, 1.83108353, 1.09386364, 2.6308214 ,\n",
       "       2.16319902, 1.17143718, 2.86120343, 1.75506992, 2.52951462,\n",
       "       3.07620724, 2.59171079, 3.40747079, 1.49064088, 2.81240675,\n",
       "       1.93469565, 1.78453915, 2.02024272, 2.23604485, 2.53292159,\n",
       "       1.54689373, 3.2148581 , 2.86352875, 1.24729141, 3.68911579,\n",
       "       4.01822118, 3.43926331, 2.34231437, 1.62310525, 3.33888732,\n",
       "       2.16207195, 3.47451661, 2.65572718, 3.2760653 , 2.77528867,\n",
       "       3.05802784, 2.49605373, 3.92939769, 2.59003892, 2.81212234])"
      ]
     },
     "execution_count": 4,
     "metadata": {},
     "output_type": "execute_result"
    }
   ],
   "source": [
    "# Predicted values\n",
    "y_pred = alpha + beta * X\n",
    "y_pred"
   ]
  },
  {
   "cell_type": "code",
   "execution_count": 5,
   "metadata": {},
   "outputs": [
    {
     "data": {
      "image/png": "[encoded data removed]",
      "text/plain": [
       "<Figure size 864x432 with 1 Axes>"
      ]
     },
     "metadata": {
      "needs_background": "light"
     },
     "output_type": "display_data"
    }
   ],
   "source": [
    "# plot prediction ypred against the actual values of y\n",
    "plt.figure(figsize=(12,6))\n",
    "plt.plot(X, y_pred)\n",
    "plt.plot(X, y, 'ro')\n",
    "plt.title('Actual vs Predicted')\n",
    "plt.xlabel('X')\n",
    "plt.ylabel('y')\n",
    "plt.show()"
   ]
  },
  {
   "cell_type": "markdown",
   "metadata": {},
   "source": [
    "The blue line is line of <b>best fit of model.</b> <br>\n",
    "We can see from this graph that there is a positive linear relationship between $X$ and $y$.<br>\n",
    "Using model, we can predict $y$ from any values of $X$ <br>\n",
    "For example, if a value $X = 10$ that:<br>\n",
    "<center><b>$Y_e = 2.003 + 0.323 (10) = 5.233$</b></center>"
   ]
  },
  {
   "cell_type": "markdown",
   "metadata": {},
   "source": [
    "## 2.2 Linear Regression with statsmodels"
   ]
  },
  {
   "cell_type": "code",
   "execution_count": 6,
   "metadata": {},
   "outputs": [
    {
     "data": {
      "text/html": [
       "<div>\n",
       "<style scoped>\n",
       "    .dataframe tbody tr th:only-of-type {\n",
       "        vertical-align: middle;\n",
       "    }\n",
       "\n",
       "    .dataframe tbody tr th {\n",
       "        vertical-align: top;\n",
       "    }\n",
       "\n",
       "    .dataframe thead th {\n",
       "        text-align: right;\n",
       "    }\n",
       "</style>\n",
       "<table border=\"1\" class=\"dataframe\">\n",
       "  <thead>\n",
       "    <tr style=\"text-align: right;\">\n",
       "      <th></th>\n",
       "      <th>Unnamed: 0</th>\n",
       "      <th>TV</th>\n",
       "      <th>Radio</th>\n",
       "      <th>Newspaper</th>\n",
       "      <th>Sales</th>\n",
       "    </tr>\n",
       "  </thead>\n",
       "  <tbody>\n",
       "    <tr>\n",
       "      <th>0</th>\n",
       "      <td>1</td>\n",
       "      <td>230.1</td>\n",
       "      <td>37.8</td>\n",
       "      <td>69.2</td>\n",
       "      <td>22.1</td>\n",
       "    </tr>\n",
       "    <tr>\n",
       "      <th>1</th>\n",
       "      <td>2</td>\n",
       "      <td>44.5</td>\n",
       "      <td>39.3</td>\n",
       "      <td>45.1</td>\n",
       "      <td>10.4</td>\n",
       "    </tr>\n",
       "    <tr>\n",
       "      <th>2</th>\n",
       "      <td>3</td>\n",
       "      <td>17.2</td>\n",
       "      <td>45.9</td>\n",
       "      <td>69.3</td>\n",
       "      <td>9.3</td>\n",
       "    </tr>\n",
       "    <tr>\n",
       "      <th>3</th>\n",
       "      <td>4</td>\n",
       "      <td>151.5</td>\n",
       "      <td>41.3</td>\n",
       "      <td>58.5</td>\n",
       "      <td>18.5</td>\n",
       "    </tr>\n",
       "    <tr>\n",
       "      <th>4</th>\n",
       "      <td>5</td>\n",
       "      <td>180.8</td>\n",
       "      <td>10.8</td>\n",
       "      <td>58.4</td>\n",
       "      <td>12.9</td>\n",
       "    </tr>\n",
       "  </tbody>\n",
       "</table>\n",
       "</div>"
      ],
      "text/plain": [
       "   Unnamed: 0     TV  Radio  Newspaper  Sales\n",
       "0           1  230.1   37.8       69.2   22.1\n",
       "1           2   44.5   39.3       45.1   10.4\n",
       "2           3   17.2   45.9       69.3    9.3\n",
       "3           4  151.5   41.3       58.5   18.5\n",
       "4           5  180.8   10.8       58.4   12.9"
      ]
     },
     "execution_count": 6,
     "metadata": {},
     "output_type": "execute_result"
    }
   ],
   "source": [
    "# TASK: Find if TV advertising spending can predict\n",
    "#       the number of sales for the product.\n",
    "\n",
    "advertising = pd.read_csv('../resources/data/kaggle_advertising.csv')\n",
    "advertising.head()"
   ]
  },
  {
   "cell_type": "code",
   "execution_count": 7,
   "metadata": {},
   "outputs": [
    {
     "data": {
      "text/plain": [
       "Intercept    7.032594\n",
       "TV           0.047537\n",
       "dtype: float64"
      ]
     },
     "execution_count": 7,
     "metadata": {},
     "output_type": "execute_result"
    }
   ],
   "source": [
    "import statsmodels.formula.api as smf\n",
    "\n",
    "# Initialise and fit linear regression model using statsmodel\n",
    "# This takes the formula y ~ X, where X is the predictor variable\n",
    "# (TV advertising costs) and y is the output variable (Sales)\n",
    "model = smf.ols('Sales ~ TV', data=advertising)\n",
    "model = model.fit()\n",
    "model.params"
   ]
  },
  {
   "cell_type": "markdown",
   "metadata": {},
   "source": [
    "$\\alpha$ is the <b>intercept</b> and $\\beta$ is the <b>slope</b> i.e. <br>\n",
    "$\\alpha = 7.032$ and $\\beta = 0.047$\n",
    "<br>\n",
    "The equation for the model will be: \n",
    "<center><b>Sales = 7.032 + 0.047*TV</b></center>\n",
    "<br>\n",
    "This means that, on average, if we spent $100 on TV advertising, we should expect to sell 11.73 units.\n"
   ]
  },
  {
   "cell_type": "code",
   "execution_count": 8,
   "metadata": {},
   "outputs": [
    {
     "data": {
      "text/plain": [
       "<Figure size 432x288 with 0 Axes>"
      ]
     },
     "metadata": {},
     "output_type": "display_data"
    },
    {
     "data": {
      "image/png": "[encoded data removed]",
      "text/plain": [
       "<Figure size 864x432 with 1 Axes>"
      ]
     },
     "metadata": {
      "needs_background": "light"
     },
     "output_type": "display_data"
    }
   ],
   "source": [
    "# make prediction\n",
    "sales_pred = model.predict()\n",
    "\n",
    "# Clear old plot\n",
    "plt.clf()\n",
    "\n",
    "# plot prediction ypred against the actual values of y\n",
    "plt.figure(figsize=(12,6))\n",
    "plt.plot(advertising['TV'], sales_pred, 'r',linewidth=2)\n",
    "plt.plot(advertising['TV'], advertising['Sales'], 'o')\n",
    "plt.title('TV vs Sales')\n",
    "plt.xlabel('TV Advertising Costs')\n",
    "plt.ylabel('Sales')\n",
    "plt.show()"
   ]
  },
  {
   "cell_type": "code",
   "execution_count": 9,
   "metadata": {},
   "outputs": [
    {
     "data": {
      "text/plain": [
       "0    26.04725\n",
       "dtype: float64"
      ]
     },
     "execution_count": 9,
     "metadata": {},
     "output_type": "execute_result"
    }
   ],
   "source": [
    "# If we increase TV advertising costs to $400,\n",
    "# we can predict that sales will increase to 26 units:\n",
    "new_X = 400\n",
    "model.predict({\"TV\": new_X})"
   ]
  },
  {
   "cell_type": "markdown",
   "metadata": {},
   "source": [
    "## 2.3 Multiple Linear Regression with scikit-learn"
   ]
  },
  {
   "cell_type": "markdown",
   "metadata": {},
   "source": [
    "For this model, we will continue to use the advertising dataset but \n",
    "this time we will use two predictor variables to create a multiple linear regression model. This is simply a linear regression model with more than one predictor, and is modelled by:"
   ]
  },
  {
   "cell_type": "markdown",
   "metadata": {},
   "source": [
    "<center><b>$Y_e =  \\alpha + \\beta_1 X_1 + \\beta_2 X_2 ... + \\beta_n X_n$</b></center>"
   ]
  },
  {
   "cell_type": "markdown",
   "metadata": {},
   "source": [
    "Predicting Sales using the variables TV and Radio:"
   ]
  },
  {
   "cell_type": "markdown",
   "metadata": {},
   "source": [
    "<center><b>$Sales =  \\alpha + \\beta_1 * TV + \\beta_2 * Radio ... + \\beta_n X_n$</b></center>"
   ]
  },
  {
   "cell_type": "code",
   "execution_count": 17,
   "metadata": {},
   "outputs": [
    {
     "name": "stdout",
     "output_type": "stream",
     "text": [
      "alpha = 2.9210999124051362\n",
      "beta = [0.04575482 0.18799423]\n"
     ]
    }
   ],
   "source": [
    "from sklearn.linear_model import LinearRegression\n",
    "\n",
    "predictors = ['TV', 'Radio']\n",
    "X = advertising[predictors]\n",
    "y = advertising['Sales']\n",
    "\n",
    "lr = LinearRegression()\n",
    "model = lr.fit(X,y)\n",
    "\n",
    "print(f'alpha = {model.intercept_}')\n",
    "print(f'beta = {model.coef_}')"
   ]
  },
  {
   "cell_type": "markdown",
   "metadata": {},
   "source": [
    "<center><b>Sales = 2.921 + 0.046*TV + 0.1880*Radio.</b></center>"
   ]
  },
  {
   "cell_type": "code",
   "execution_count": 20,
   "metadata": {},
   "outputs": [
    {
     "data": {
      "text/plain": [
       "array([54.24638977])"
      ]
     },
     "execution_count": 20,
     "metadata": {},
     "output_type": "execute_result"
    }
   ],
   "source": [
    "# if we wanted to know how many sales we would make if we invested $300 \n",
    "# in TV advertising and $200 in Radio advertising\n",
    "\n",
    "new_X = [[300,200]]\n",
    "model.predict(new_X)"
   ]
  },
  {
   "cell_type": "code",
   "execution_count": null,
   "metadata": {},
   "outputs": [],
   "source": []
  }
 ],
 "metadata": {
  "kernelspec": {
   "display_name": "Python 3",
   "language": "python",
   "name": "python3"
  },
  "language_info": {
   "codemirror_mode": {
    "name": "ipython",
    "version": 3
   },
   "file_extension": ".py",
   "mimetype": "text/x-python",
   "name": "python",
   "nbconvert_exporter": "python",
   "pygments_lexer": "ipython3",
   "version": "3.8.3"
  }
 },
 "nbformat": 4,
 "nbformat_minor": 4
}
