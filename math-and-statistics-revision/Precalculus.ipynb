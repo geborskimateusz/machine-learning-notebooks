{
 "cells": [
  {
   "cell_type": "markdown",
   "metadata": {},
   "source": [
    "# Source: [Khan Academy - Precalculus](https://www.khanacademy.org/math/precalculus)"
   ]
  },
  {
   "cell_type": "markdown",
   "metadata": {},
   "source": [
    "## 1. Introduction to imaginary numbers"
   ]
  },
  {
   "cell_type": "markdown",
   "metadata": {},
   "source": [
    "<center><b><i>i = imaginary unit</i></b></center>\n",
    "<br>\n",
    "<center><b>$i^2 = -1$ || $i = \\sqrt{-1}$</b></center>\n",
    "\n"
   ]
  },
  {
   "cell_type": "markdown",
   "metadata": {},
   "source": [
    "Examples: <br>\n",
    "\n",
    "$i^0 = 1$ <br>\n",
    "$i^1 = i$ <br>\n",
    "$i^2 = -1$ <br>\n",
    "$i^3 = i^2 * i = -1 * i = -i$ <br>\n",
    "$i^4 = i * i^3 = -1 *( i * i) = -1 * (-1) = 1$ <br>"
   ]
  },
  {
   "cell_type": "markdown",
   "metadata": {},
   "source": [
    "<hr>"
   ]
  },
  {
   "cell_type": "markdown",
   "metadata": {},
   "source": [
    "## 2. Pure Imaginary Numbers"
   ]
  },
  {
   "cell_type": "markdown",
   "metadata": {},
   "source": [
    "<center>For a >0, $\\sqrt{-a} = i\\sqrt{a}$</center>"
   ]
  },
  {
   "cell_type": "markdown",
   "metadata": {},
   "source": [
    "Examples: <br>\n",
    "1. $(3i)^2 = 3^2 * i^2 = 9i^2 = -1 * 9 = -9$<br>\n",
    "2. $-\\sqrt{-144} = (-1)(\\sqrt{-1} * \\sqrt(144)) = (-1)(12i) = 12i$<br>"
   ]
  },
  {
   "cell_type": "markdown",
   "metadata": {},
   "source": [
    "<hr>"
   ]
  },
  {
   "cell_type": "markdown",
   "metadata": {},
   "source": [
    "## 3. Power of imaginary unit"
   ]
  },
  {
   "cell_type": "markdown",
   "metadata": {},
   "source": [
    "Examples: <br>\n",
    "\n",
    "1. $i^{100} = i^{4^{25}} = 1$ because $i^4 = 1$ <br>\n",
    "2. $i^{501} = i^{4^{125}} * i^1 = i$\n",
    "3. $i^{99} = i^{96} * i^3 = -i$"
   ]
  },
  {
   "cell_type": "code",
   "execution_count": null,
   "metadata": {},
   "outputs": [],
   "source": []
  }
 ],
 "metadata": {
  "kernelspec": {
   "display_name": "Python 3",
   "language": "python",
   "name": "python3"
  },
  "language_info": {
   "codemirror_mode": {
    "name": "ipython",
    "version": 3
   },
   "file_extension": ".py",
   "mimetype": "text/x-python",
   "name": "python",
   "nbconvert_exporter": "python",
   "pygments_lexer": "ipython3",
   "version": "3.8.3"
  }
 },
 "nbformat": 4,
 "nbformat_minor": 4
}
